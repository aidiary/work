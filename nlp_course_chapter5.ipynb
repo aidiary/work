{
  "nbformat": 4,
  "nbformat_minor": 0,
  "metadata": {
    "colab": {
      "private_outputs": true,
      "provenance": [],
      "gpuType": "A100",
      "authorship_tag": "ABX9TyM8OJi9uBH/XgKTAaoAmHtq",
      "include_colab_link": true
    },
    "kernelspec": {
      "name": "python3",
      "display_name": "Python 3"
    },
    "language_info": {
      "name": "python"
    },
    "accelerator": "GPU"
  },
  "cells": [
    {
      "cell_type": "markdown",
      "metadata": {
        "id": "view-in-github",
        "colab_type": "text"
      },
      "source": [
        "<a href=\"https://colab.research.google.com/github/aidiary/work/blob/main/nlp_course_chapter5.ipynb\" target=\"_parent\"><img src=\"https://colab.research.google.com/assets/colab-badge.svg\" alt=\"Open In Colab\"/></a>"
      ]
    },
    {
      "cell_type": "code",
      "source": [
        "%pip install datasets\n",
        "%pip install accelerate -U\n",
        "%pip install evaluate"
      ],
      "metadata": {
        "id": "a-V6xhDYNyMs"
      },
      "execution_count": null,
      "outputs": []
    },
    {
      "cell_type": "code",
      "source": [
        "!wget \"https://archive.ics.uci.edu/ml/machine-learning-databases/00462/drugsCom_raw.zip\"\n",
        "!unzip drugsCom_raw.zip"
      ],
      "metadata": {
        "id": "-kBJWEZON8go"
      },
      "execution_count": null,
      "outputs": []
    },
    {
      "cell_type": "markdown",
      "source": [
        "## データの前処理"
      ],
      "metadata": {
        "id": "r7EOcdjxOFWY"
      }
    },
    {
      "cell_type": "code",
      "source": [
        "from datasets import load_dataset\n",
        "\n",
        "# CSVをロード\n",
        "data_files = {\"train\": \"drugsComTrain_raw.tsv\", \"test\": \"drugsComTest_raw.tsv\"}\n",
        "drug_dataset = load_dataset(\"csv\", data_files=data_files, delimiter=\"\\t\")"
      ],
      "metadata": {
        "id": "DfumHFUcN0Da"
      },
      "execution_count": null,
      "outputs": []
    },
    {
      "cell_type": "code",
      "source": [
        "# 列名を修正\n",
        "drug_dataset = drug_dataset.rename_column(\n",
        "    original_column_name=\"Unnamed: 0\", new_column_name=\"patient_id\"\n",
        ")"
      ],
      "metadata": {
        "id": "j9OFRqHzODKm"
      },
      "execution_count": null,
      "outputs": []
    },
    {
      "cell_type": "code",
      "source": [
        "# Noneのデータをフィルタリング\n",
        "drug_dataset = drug_dataset.filter(lambda x: x[\"condition\"] is not None)"
      ],
      "metadata": {
        "id": "L-IrQMMZOZsv"
      },
      "execution_count": null,
      "outputs": []
    },
    {
      "cell_type": "code",
      "source": [
        "# conditionを小文字に\n",
        "def lowercase_condition(example):\n",
        "    return {\"condition\": example[\"condition\"].lower()}\n",
        "\n",
        "drug_dataset = drug_dataset.map(lowercase_condition)"
      ],
      "metadata": {
        "id": "b0mq40roOezj"
      },
      "execution_count": null,
      "outputs": []
    },
    {
      "cell_type": "code",
      "source": [
        "def compute_review_length(example):\n",
        "    return {\"review_length\": len(example[\"review\"].split())}\n",
        "\n",
        "# レビューの長さの属性を追加\n",
        "drug_dataset = drug_dataset.map(compute_review_length)\n",
        "\n",
        "# 短いレビューのデータを削除\n",
        "drug_dataset = drug_dataset.filter(lambda x: x[\"review_length\"] > 30)"
      ],
      "metadata": {
        "id": "pgl9j34WOigC"
      },
      "execution_count": null,
      "outputs": []
    },
    {
      "cell_type": "code",
      "source": [
        "# レビューのHTMLエスケープを元に戻す\n",
        "import html\n",
        "\n",
        "drug_dataset = drug_dataset.map(lambda x: {\"review\": html.unescape(x[\"review\"])})"
      ],
      "metadata": {
        "id": "Wr8Ko-STO1Z-"
      },
      "execution_count": null,
      "outputs": []
    },
    {
      "cell_type": "markdown",
      "source": [
        "## データの分割"
      ],
      "metadata": {
        "id": "RUJju4nJQIzz"
      }
    },
    {
      "cell_type": "code",
      "source": [
        "drug_dataset_clean = drug_dataset[\"train\"].train_test_split(train_size=0.8, seed=42)\n",
        "drug_dataset_clean[\"validation\"] = drug_dataset_clean.pop(\"test\")\n",
        "drug_dataset_clean[\"test\"] = drug_dataset[\"test\"]"
      ],
      "metadata": {
        "id": "tLTUdoYyPsC9"
      },
      "execution_count": null,
      "outputs": []
    },
    {
      "cell_type": "code",
      "source": [
        "drug_dataset_clean"
      ],
      "metadata": {
        "id": "5AjiEAwsQMcw"
      },
      "execution_count": null,
      "outputs": []
    },
    {
      "cell_type": "markdown",
      "source": [
        "## ここまでの前処理結果を保存"
      ],
      "metadata": {
        "id": "lRPYTXwCQWlz"
      }
    },
    {
      "cell_type": "code",
      "source": [
        "drug_dataset_clean.save_to_disk(\"drug-reviews\")"
      ],
      "metadata": {
        "id": "n-qNEpRCQN3g"
      },
      "execution_count": null,
      "outputs": []
    },
    {
      "cell_type": "code",
      "source": [
        "# データをロード\n",
        "from datasets import load_from_disk\n",
        "\n",
        "drug_dataset = load_from_disk(\"drug-reviews\")\n",
        "drug_dataset"
      ],
      "metadata": {
        "id": "c4FKulV2Qbbx"
      },
      "execution_count": null,
      "outputs": []
    },
    {
      "cell_type": "markdown",
      "source": [
        "## 分類器の訓練"
      ],
      "metadata": {
        "id": "1MuoB3egQn4V"
      }
    },
    {
      "cell_type": "code",
      "source": [
        "from transformers import AutoTokenizer, DataCollatorWithPadding\n",
        "\n",
        "checkpoint = \"bert-base-uncased\"\n",
        "tokenizer = AutoTokenizer.from_pretrained(checkpoint)\n",
        "\n",
        "def tokenize_function(example):\n",
        "    return tokenizer(example[\"review\"], truncation=True)\n",
        "\n",
        "tokenized_datasets = drug_dataset.map(tokenize_function, batched=True)\n",
        "data_collator = DataCollatorWithPadding(tokenizer=tokenizer)"
      ],
      "metadata": {
        "id": "HxffLz-qQiuT"
      },
      "execution_count": null,
      "outputs": []
    },
    {
      "cell_type": "code",
      "source": [
        "tokenized_datasets"
      ],
      "metadata": {
        "id": "qRPt06JTQwc-"
      },
      "execution_count": null,
      "outputs": []
    },
    {
      "cell_type": "code",
      "source": [
        "# conditionsに<span>を含む変な値のデータを除去\n",
        "tokenized_datasets = tokenized_datasets.filter(lambda x: \"</span>\" not in x[\"condition\"])"
      ],
      "metadata": {
        "id": "6D1FkC6IRPhH"
      },
      "execution_count": null,
      "outputs": []
    },
    {
      "cell_type": "code",
      "source": [
        "conditions = sorted(list(set(tokenized_datasets[\"train\"][\"condition\"] + tokenized_datasets[\"validation\"][\"condition\"] + tokenized_datasets[\"test\"][\"condition\"])))\n",
        "print(len(conditions))\n",
        "print(conditions[:10])"
      ],
      "metadata": {
        "id": "xgZ7xJpVRHR2"
      },
      "execution_count": null,
      "outputs": []
    },
    {
      "cell_type": "code",
      "source": [
        "# ラベルを保存\n",
        "import pickle\n",
        "\n",
        "with open(\"conditions.pickle\", mode=\"wb\") as f:\n",
        "    pickle.dump(conditions, f)"
      ],
      "metadata": {
        "id": "pmNwPZ7mRL9o"
      },
      "execution_count": null,
      "outputs": []
    },
    {
      "cell_type": "code",
      "source": [
        "# conditionをラベルIDに変換\n",
        "def convert_label_id(example):\n",
        "    return {\"labels\": conditions.index(example[\"condition\"])}\n",
        "\n",
        "tokenized_datasets = tokenized_datasets.map(\n",
        "    convert_label_id\n",
        ")"
      ],
      "metadata": {
        "id": "On1VVDR2SOAf"
      },
      "execution_count": null,
      "outputs": []
    },
    {
      "cell_type": "code",
      "source": [
        "tokenized_datasets"
      ],
      "metadata": {
        "id": "H3d0KqrwSs-n"
      },
      "execution_count": null,
      "outputs": []
    },
    {
      "cell_type": "code",
      "source": [
        "# いったん保存\n",
        "tokenized_datasets.save_to_disk(\"tokenized-datasets\")"
      ],
      "metadata": {
        "id": "gjtsO25eSijO"
      },
      "execution_count": null,
      "outputs": []
    },
    {
      "cell_type": "code",
      "source": [
        "tokenized_datasets = load_from_disk(\"tokenized-datasets\")\n",
        "tokenized_datasets"
      ],
      "metadata": {
        "id": "gY8yVSeXS1kL"
      },
      "execution_count": null,
      "outputs": []
    },
    {
      "cell_type": "code",
      "source": [
        "# 学習に不要な特徴を削除\n",
        "tokenized_datasets = tokenized_datasets.remove_columns([\"patient_id\", \"drugName\", \"condition\", \"review\", \"rating\", \"date\", \"usefulCount\", \"review_length\"])\n",
        "tokenized_datasets"
      ],
      "metadata": {
        "id": "kI5YXMKESwOo"
      },
      "execution_count": null,
      "outputs": []
    },
    {
      "cell_type": "code",
      "source": [
        "from transformers import TrainingArguments\n",
        "\n",
        "training_args = TrainingArguments(\n",
        "    output_dir=\"run1\",\n",
        "    per_device_train_batch_size=32,\n",
        "    per_device_eval_batch_size=16,\n",
        ")\n",
        "training_args"
      ],
      "metadata": {
        "id": "NRelwmrdS0iU"
      },
      "execution_count": null,
      "outputs": []
    },
    {
      "cell_type": "code",
      "source": [
        "len(conditions)"
      ],
      "metadata": {
        "id": "0aFMuh4ZTtDm"
      },
      "execution_count": null,
      "outputs": []
    },
    {
      "cell_type": "code",
      "source": [
        "from transformers import AutoModelForSequenceClassification\n",
        "\n",
        "model = AutoModelForSequenceClassification.from_pretrained(checkpoint, num_labels=len(conditions))\n",
        "model"
      ],
      "metadata": {
        "id": "WdOS7J4HTYwn"
      },
      "execution_count": null,
      "outputs": []
    },
    {
      "cell_type": "code",
      "source": [
        "import evaluate\n",
        "import numpy as np\n",
        "\n",
        "def compute_metrics(eval_preds):\n",
        "    metric = evaluate.load(\"accuracy\")\n",
        "    logits, labels = eval_preds\n",
        "    predictions = np.argmax(logits, axis=-1)\n",
        "    return metric.compute(predictions=predictions, references=labels)"
      ],
      "metadata": {
        "id": "qB_uGGIhX-ge"
      },
      "execution_count": null,
      "outputs": []
    },
    {
      "cell_type": "code",
      "source": [
        "from transformers import Trainer\n",
        "\n",
        "# TODO: push_to_hubを追加する\n",
        "trainer = Trainer(\n",
        "    model,\n",
        "    training_args,\n",
        "    train_dataset=tokenized_datasets[\"train\"],\n",
        "    eval_dataset=tokenized_datasets[\"validation\"],\n",
        "    data_collator=data_collator,\n",
        "    tokenizer=tokenizer,\n",
        "    compute_metrics=compute_metrics,\n",
        ")"
      ],
      "metadata": {
        "id": "el1fCqXnTjYG"
      },
      "execution_count": null,
      "outputs": []
    },
    {
      "cell_type": "code",
      "source": [
        "trainer.train()"
      ],
      "metadata": {
        "id": "cHqsdV69VZqd"
      },
      "execution_count": null,
      "outputs": []
    },
    {
      "cell_type": "code",
      "source": [
        "trainer.save_model(\"drugsCom-bert-finetuned\")"
      ],
      "metadata": {
        "id": "-AP4MoRkb9hf"
      },
      "execution_count": null,
      "outputs": []
    },
    {
      "cell_type": "code",
      "source": [
        "from huggingface_hub import notebook_login\n",
        "notebook_login()"
      ],
      "metadata": {
        "id": "uP3YXkkdb4WP"
      },
      "execution_count": null,
      "outputs": []
    },
    {
      "cell_type": "code",
      "source": [
        "model.push_to_hub(\"aidiary/drugsCom-bert-finetuned\")\n",
        "tokenizer.push_to_hub(\"aidiary/drugsCom-bert-finetuned\")"
      ],
      "metadata": {
        "id": "U6xbtkVVk9DC"
      },
      "execution_count": null,
      "outputs": []
    },
    {
      "cell_type": "markdown",
      "source": [
        "## Evaluation"
      ],
      "metadata": {
        "id": "YTIpvX2gl1Hd"
      }
    },
    {
      "cell_type": "code",
      "source": [
        "pred = trainer.predict(tokenized_datasets[\"validation\"])\n",
        "print(pred.predictions.shape)\n",
        "print(pred.label_ids.shape)"
      ],
      "metadata": {
        "id": "t5wxAhIYl0Tl"
      },
      "execution_count": null,
      "outputs": []
    },
    {
      "cell_type": "code",
      "source": [
        "import numpy as np\n",
        "\n",
        "preds = np.argmax(pred.predictions, axis=-1)"
      ],
      "metadata": {
        "id": "rlgBkQZ-lQcj"
      },
      "execution_count": null,
      "outputs": []
    },
    {
      "cell_type": "code",
      "source": [
        "metric.compute(predictions=preds, references=pred.label_ids)"
      ],
      "metadata": {
        "id": "3LpYPpOfl34n"
      },
      "execution_count": null,
      "outputs": []
    }
  ]
}